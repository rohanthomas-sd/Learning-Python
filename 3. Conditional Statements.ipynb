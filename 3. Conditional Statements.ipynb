{
 "cells": [
  {
   "cell_type": "markdown",
   "id": "200aa60e",
   "metadata": {},
   "source": [
    "1. If Else\n",
    "2. If\n",
    "3. Else\n",
    "4. El if(else if)\n",
    "5. If Else Ternary Expression"
   ]
  },
  {
   "cell_type": "code",
   "execution_count": 2,
   "id": "a6c7be77",
   "metadata": {},
   "outputs": [
    {
     "name": "stdout",
     "output_type": "stream",
     "text": [
      "Hello\n"
     ]
    }
   ],
   "source": [
    "a = 10\n",
    "if a>5:\n",
    "    print(\"Hello\")"
   ]
  },
  {
   "cell_type": "code",
   "execution_count": 4,
   "id": "be99890a",
   "metadata": {},
   "outputs": [],
   "source": [
    "a =10\n",
    "if a>15:\n",
    "    print(\"Hello\")"
   ]
  },
  {
   "cell_type": "code",
   "execution_count": 5,
   "id": "7fd9684f",
   "metadata": {},
   "outputs": [
    {
     "name": "stdout",
     "output_type": "stream",
     "text": [
      "Hello\n"
     ]
    }
   ],
   "source": [
    "a=10\n",
    "if a> 5:\n",
    "    print(\"Hello\")\n",
    "else:\n",
    "    print(\"Bye\")"
   ]
  },
  {
   "cell_type": "code",
   "execution_count": 6,
   "id": "2b61c998",
   "metadata": {},
   "outputs": [
    {
     "name": "stdout",
     "output_type": "stream",
     "text": [
      "Bye\n"
     ]
    }
   ],
   "source": [
    "a=10\n",
    "if a> 15:\n",
    "    print(\"Hello\")\n",
    "else:\n",
    "    print(\"Bye\")"
   ]
  },
  {
   "cell_type": "code",
   "execution_count": 7,
   "id": "4010e69d",
   "metadata": {},
   "outputs": [
    {
     "ename": "SyntaxError",
     "evalue": "invalid syntax (4061035225.py, line 1)",
     "output_type": "error",
     "traceback": [
      "\u001b[1;36m  Cell \u001b[1;32mIn[7], line 1\u001b[1;36m\u001b[0m\n\u001b[1;33m    else:\u001b[0m\n\u001b[1;37m    ^\u001b[0m\n\u001b[1;31mSyntaxError\u001b[0m\u001b[1;31m:\u001b[0m invalid syntax\n"
     ]
    }
   ],
   "source": [
    "else:\n",
    "    print(\"Hi\")"
   ]
  },
  {
   "cell_type": "code",
   "execution_count": 8,
   "id": "22a50647",
   "metadata": {},
   "outputs": [
    {
     "name": "stdout",
     "output_type": "stream",
     "text": [
      "Bangalore\n"
     ]
    }
   ],
   "source": [
    "a=5\n",
    "if a==10:\n",
    "    print(\"Hello\")\n",
    "    print(\"Hi\")\n",
    "elif a<6:\n",
    "    print(\"Bangalore\")\n",
    "elif a==5:\n",
    "    print(\"Goa\")\n",
    "else:\n",
    "    print(\"Incorrect\")"
   ]
  },
  {
   "cell_type": "markdown",
   "id": "c2c09bfc",
   "metadata": {},
   "source": [
    "Nested Else If"
   ]
  },
  {
   "cell_type": "code",
   "execution_count": 9,
   "id": "ba471c9c",
   "metadata": {},
   "outputs": [
    {
     "name": "stdout",
     "output_type": "stream",
     "text": [
      "1\n",
      "3\n",
      "4\n"
     ]
    }
   ],
   "source": [
    "a= 7\n",
    "\n",
    "if a>4:\n",
    "    print(1)\n",
    "    if a==5:\n",
    "        print(2)\n",
    "    else:\n",
    "        print(3)\n",
    "        if a==7:\n",
    "            print(4)\n",
    "else:\n",
    "    print(5)"
   ]
  },
  {
   "cell_type": "markdown",
   "id": "7aef6f4e",
   "metadata": {},
   "source": [
    "Ternary Statements"
   ]
  },
  {
   "cell_type": "code",
   "execution_count": null,
   "id": "30cb23d4",
   "metadata": {},
   "outputs": [],
   "source": [
    "?: #Ternary Operator"
   ]
  },
  {
   "cell_type": "code",
   "execution_count": 10,
   "id": "e4a2ae4b",
   "metadata": {},
   "outputs": [
    {
     "name": "stdout",
     "output_type": "stream",
     "text": [
      "5\n"
     ]
    }
   ],
   "source": [
    "a=10\n",
    "b=5 if a==10 else 45\n",
    "print(b)"
   ]
  },
  {
   "cell_type": "markdown",
   "id": "e0e600e8",
   "metadata": {},
   "source": [
    "WAP to enter a number from user and print its absolute value"
   ]
  },
  {
   "cell_type": "code",
   "execution_count": 12,
   "id": "3f71bf0e",
   "metadata": {},
   "outputs": [
    {
     "name": "stdout",
     "output_type": "stream",
     "text": [
      "Enter a number0\n",
      "0\n"
     ]
    }
   ],
   "source": [
    "n = int(input(\"Enter a number\"))\n",
    "if n<0:\n",
    "    print(n*(-1))\n",
    "else:\n",
    "    print(n)"
   ]
  },
  {
   "cell_type": "markdown",
   "id": "cf8cec4f",
   "metadata": {},
   "source": [
    "WAP to enter single digit from user and print its character format"
   ]
  },
  {
   "cell_type": "code",
   "execution_count": 15,
   "id": "fb327145",
   "metadata": {},
   "outputs": [
    {
     "name": "stdout",
     "output_type": "stream",
     "text": [
      "Enter a number: 5\n",
      "Five\n"
     ]
    }
   ],
   "source": [
    "n=int(input(\"Enter a number: \"))\n",
    "\n",
    "if n==1:\n",
    "    print(\"One\")\n",
    "elif n==2:\n",
    "    print(\"Two\")\n",
    "elif n==3:\n",
    "    print(\"Three\")\n",
    "elif n==4:\n",
    "    print(\"Four\")\n",
    "elif n==5:\n",
    "    print(\"Five\")\n",
    "elif n==6:\n",
    "    print(\"Six\")\n",
    "elif n==7:\n",
    "    print(\"Seven\")\n",
    "elif n==8:\n",
    "    print(\"Eight\")\n",
    "elif n==9:\n",
    "    print(\"Nine\")\n",
    "elif n==0:\n",
    "    print(\"Zero\")\n"
   ]
  },
  {
   "cell_type": "markdown",
   "id": "05a2a956",
   "metadata": {},
   "source": [
    "WAP to enter a character fro user and check if it is vovel or consonant"
   ]
  },
  {
   "cell_type": "code",
   "execution_count": 17,
   "id": "05b48bd1",
   "metadata": {},
   "outputs": [
    {
     "name": "stdout",
     "output_type": "stream",
     "text": [
      "Enter a character :a\n",
      "Vowel\n"
     ]
    }
   ],
   "source": [
    "n = input(\"Enter a character :\")\n",
    "\n",
    "if (n=='a'or n=='e'or n=='i'or n=='o'or n=='u'):\n",
    "    print(\"Vowel\")\n",
    "else:\n",
    "    print(\"Consonant\")"
   ]
  }
 ],
 "metadata": {
  "kernelspec": {
   "display_name": "Python 3 (ipykernel)",
   "language": "python",
   "name": "python3"
  },
  "language_info": {
   "codemirror_mode": {
    "name": "ipython",
    "version": 3
   },
   "file_extension": ".py",
   "mimetype": "text/x-python",
   "name": "python",
   "nbconvert_exporter": "python",
   "pygments_lexer": "ipython3",
   "version": "3.11.5"
  }
 },
 "nbformat": 4,
 "nbformat_minor": 5
}
