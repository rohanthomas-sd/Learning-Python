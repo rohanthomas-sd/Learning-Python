{
 "cells": [
  {
   "cell_type": "markdown",
   "id": "674543b7",
   "metadata": {},
   "source": [
    "1. Arthmetic Operators\n",
    "2. Relational Operators\n",
    "3. Bitwise Operators\n",
    "4. Logical Operators\n",
    "5. Assignment Operators\n",
    "6. Compound Operators\n",
    "7. Membership Operators\n",
    "8. Identity Operators"
   ]
  },
  {
   "cell_type": "code",
   "execution_count": 1,
   "id": "cd67d313",
   "metadata": {},
   "outputs": [
    {
     "name": "stdout",
     "output_type": "stream",
     "text": [
      "1\n"
     ]
    }
   ],
   "source": [
    "#Arthmetic Operators\n",
    "\n",
    "print(7 % 2) #Modulo"
   ]
  },
  {
   "cell_type": "code",
   "execution_count": 3,
   "id": "12e6992d",
   "metadata": {},
   "outputs": [
    {
     "name": "stdout",
     "output_type": "stream",
     "text": [
      "3\n"
     ]
    }
   ],
   "source": [
    "print(7 // 2) #floor division"
   ]
  },
  {
   "cell_type": "code",
   "execution_count": 4,
   "id": "eb6591e9",
   "metadata": {},
   "outputs": [
    {
     "name": "stdout",
     "output_type": "stream",
     "text": [
      "9\n"
     ]
    }
   ],
   "source": [
    "print(3 ** 2) #exponents"
   ]
  },
  {
   "cell_type": "code",
   "execution_count": 5,
   "id": "8b4e65f0",
   "metadata": {},
   "outputs": [
    {
     "name": "stdout",
     "output_type": "stream",
     "text": [
      "True\n"
     ]
    }
   ],
   "source": [
    "# Relational Operators\n",
    "#  >, <, >= , <=, ==, !=\n",
    "\n",
    "print(10 > 5)"
   ]
  },
  {
   "cell_type": "code",
   "execution_count": 7,
   "id": "be972e24",
   "metadata": {},
   "outputs": [
    {
     "name": "stdout",
     "output_type": "stream",
     "text": [
      "False\n"
     ]
    }
   ],
   "source": [
    "print(10 < 10)"
   ]
  },
  {
   "cell_type": "code",
   "execution_count": 8,
   "id": "625d0171",
   "metadata": {},
   "outputs": [
    {
     "name": "stdout",
     "output_type": "stream",
     "text": [
      "False\n"
     ]
    }
   ],
   "source": [
    "print(10 >= 15)"
   ]
  },
  {
   "cell_type": "code",
   "execution_count": 9,
   "id": "c7427333",
   "metadata": {},
   "outputs": [
    {
     "name": "stdout",
     "output_type": "stream",
     "text": [
      "True\n"
     ]
    }
   ],
   "source": [
    "print(10 <= 15)"
   ]
  },
  {
   "cell_type": "code",
   "execution_count": 10,
   "id": "685e7399",
   "metadata": {},
   "outputs": [
    {
     "name": "stdout",
     "output_type": "stream",
     "text": [
      "True\n"
     ]
    }
   ],
   "source": [
    "print(10 == 10)"
   ]
  },
  {
   "cell_type": "code",
   "execution_count": 11,
   "id": "da59e71f",
   "metadata": {},
   "outputs": [
    {
     "name": "stdout",
     "output_type": "stream",
     "text": [
      "False\n"
     ]
    }
   ],
   "source": [
    "print (10 != 10)"
   ]
  },
  {
   "cell_type": "code",
   "execution_count": 1,
   "id": "3f61d404",
   "metadata": {},
   "outputs": [
    {
     "data": {
      "text/plain": [
       "0"
      ]
     },
     "execution_count": 1,
     "metadata": {},
     "output_type": "execute_result"
    }
   ],
   "source": [
    "#boolean operators\n",
    "\n",
    "True --- 1\n",
    "False --- 0"
   ]
  },
  {
   "cell_type": "code",
   "execution_count": 2,
   "id": "707f581f",
   "metadata": {},
   "outputs": [
    {
     "ename": "SyntaxError",
     "evalue": "invalid syntax (2411856802.py, line 3)",
     "output_type": "error",
     "traceback": [
      "\u001b[1;36m  Cell \u001b[1;32mIn[2], line 3\u001b[1;36m\u001b[0m\n\u001b[1;33m    not\u001b[0m\n\u001b[1;37m       ^\u001b[0m\n\u001b[1;31mSyntaxError\u001b[0m\u001b[1;31m:\u001b[0m invalid syntax\n"
     ]
    }
   ],
   "source": [
    "#logical operator\n",
    "\n",
    "not\n",
    "and\n",
    "or"
   ]
  },
  {
   "cell_type": "code",
   "execution_count": 3,
   "id": "bcf350a3",
   "metadata": {},
   "outputs": [
    {
     "name": "stdout",
     "output_type": "stream",
     "text": [
      "False\n"
     ]
    }
   ],
   "source": [
    "print(not True)"
   ]
  },
  {
   "cell_type": "code",
   "execution_count": 4,
   "id": "a286a4ec",
   "metadata": {},
   "outputs": [
    {
     "name": "stdout",
     "output_type": "stream",
     "text": [
      "True\n"
     ]
    }
   ],
   "source": [
    "print(not False)"
   ]
  },
  {
   "cell_type": "code",
   "execution_count": 5,
   "id": "6fdc9039",
   "metadata": {},
   "outputs": [
    {
     "name": "stdout",
     "output_type": "stream",
     "text": [
      "False\n"
     ]
    }
   ],
   "source": [
    "print(not(10 == 10))"
   ]
  },
  {
   "cell_type": "code",
   "execution_count": 1,
   "id": "06512b73",
   "metadata": {},
   "outputs": [
    {
     "ename": "SyntaxError",
     "evalue": "cannot assign to expression (4159915609.py, line 4)",
     "output_type": "error",
     "traceback": [
      "\u001b[1;36m  Cell \u001b[1;32mIn[1], line 4\u001b[1;36m\u001b[0m\n\u001b[1;33m    0 and 0 = 0\u001b[0m\n\u001b[1;37m    ^\u001b[0m\n\u001b[1;31mSyntaxError\u001b[0m\u001b[1;31m:\u001b[0m cannot assign to expression\n"
     ]
    }
   ],
   "source": [
    "# and\n",
    "# Truth Table\n",
    "\n",
    "0 and 0 = 0\n",
    "0 and 1 = 1\n",
    "1 and 0 = 0\n",
    "1 and 1 = 1"
   ]
  },
  {
   "cell_type": "code",
   "execution_count": 2,
   "id": "e52713a9",
   "metadata": {},
   "outputs": [
    {
     "name": "stdout",
     "output_type": "stream",
     "text": [
      "True\n"
     ]
    }
   ],
   "source": [
    "print(True or False)"
   ]
  },
  {
   "cell_type": "code",
   "execution_count": 3,
   "id": "35294ada",
   "metadata": {},
   "outputs": [
    {
     "name": "stdout",
     "output_type": "stream",
     "text": [
      "False\n"
     ]
    }
   ],
   "source": [
    "print(True and False or not True and not False)\n",
    "#                       False           True\n",
    "#           False             False\n",
    "#False"
   ]
  },
  {
   "cell_type": "code",
   "execution_count": null,
   "id": "43bab47a",
   "metadata": {},
   "outputs": [],
   "source": [
    "#Assignment Operators\n",
    "=\n",
    "#Compound Operators\n",
    "+= , -=, /=, %=, //=, **="
   ]
  },
  {
   "cell_type": "code",
   "execution_count": 5,
   "id": "049c1f13",
   "metadata": {},
   "outputs": [
    {
     "name": "stdout",
     "output_type": "stream",
     "text": [
      "15\n"
     ]
    }
   ],
   "source": [
    "a=10\n",
    "a+= 5\n",
    "print (a)"
   ]
  },
  {
   "cell_type": "code",
   "execution_count": 6,
   "id": "817b4e8f",
   "metadata": {},
   "outputs": [
    {
     "name": "stdout",
     "output_type": "stream",
     "text": [
      "2\n"
     ]
    }
   ],
   "source": [
    "a=10\n",
    "a%=4\n",
    "print(a)"
   ]
  },
  {
   "cell_type": "code",
   "execution_count": 7,
   "id": "0f50a2ed",
   "metadata": {},
   "outputs": [
    {
     "name": "stdout",
     "output_type": "stream",
     "text": [
      "100\n"
     ]
    }
   ],
   "source": [
    "a=10\n",
    "a**=2\n",
    "print(a)"
   ]
  },
  {
   "cell_type": "code",
   "execution_count": null,
   "id": "a378470d",
   "metadata": {},
   "outputs": [],
   "source": [
    "#membership operators\n",
    "in\n",
    "not in"
   ]
  },
  {
   "cell_type": "code",
   "execution_count": null,
   "id": "4f7fc98d",
   "metadata": {},
   "outputs": [],
   "source": [
    "#identity operators\n",
    "is\n",
    "not is"
   ]
  },
  {
   "cell_type": "code",
   "execution_count": null,
   "id": "9ad0bb30",
   "metadata": {},
   "outputs": [],
   "source": [
    "#bitwise operators\n",
    "& - bitwise and\n",
    "| - bitwise or\n",
    "^ - bitwise xor\n",
    "<<  bitwise left shift\n",
    ">>  bitwise right shift"
   ]
  },
  {
   "cell_type": "code",
   "execution_count": null,
   "id": "76dfb7d0",
   "metadata": {},
   "outputs": [],
   "source": [
    "bit\n",
    "number\n",
    "characters\n",
    "instructions\n",
    "program\n",
    "software"
   ]
  },
  {
   "cell_type": "code",
   "execution_count": null,
   "id": "389fa0fc",
   "metadata": {},
   "outputs": [],
   "source": [
    "1 byte - 8 bits\n",
    "2 bytes - 16 bits\n",
    "1kb - 1024 bytes\n",
    "1mb - 1024kb\n",
    "1gb - 1024mb"
   ]
  }
 ],
 "metadata": {
  "kernelspec": {
   "display_name": "Python 3 (ipykernel)",
   "language": "python",
   "name": "python3"
  },
  "language_info": {
   "codemirror_mode": {
    "name": "ipython",
    "version": 3
   },
   "file_extension": ".py",
   "mimetype": "text/x-python",
   "name": "python",
   "nbconvert_exporter": "python",
   "pygments_lexer": "ipython3",
   "version": "3.11.5"
  }
 },
 "nbformat": 4,
 "nbformat_minor": 5
}
