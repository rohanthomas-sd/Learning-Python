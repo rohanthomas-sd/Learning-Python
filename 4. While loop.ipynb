{
 "cells": [
  {
   "cell_type": "code",
   "execution_count": null,
   "id": "4ac67e59",
   "metadata": {},
   "outputs": [],
   "source": [
    "print(\"Rohan\")"
   ]
  },
  {
   "cell_type": "code",
   "execution_count": 2,
   "id": "56fe1860",
   "metadata": {},
   "outputs": [
    {
     "name": "stdout",
     "output_type": "stream",
     "text": [
      "Rohan\n",
      "Rohan\n",
      "Rohan\n",
      "Rohan\n",
      "Rohan\n",
      "Rohan\n",
      "Rohan\n",
      "Rohan\n",
      "Rohan\n",
      "Rohan\n"
     ]
    }
   ],
   "source": [
    "i =1\n",
    "while i<=10:\n",
    "    print(\"Rohan\")\n",
    "    i+=1"
   ]
  },
  {
   "cell_type": "markdown",
   "id": "da847850",
   "metadata": {},
   "source": [
    "WAP to print 1-10"
   ]
  },
  {
   "cell_type": "code",
   "execution_count": 3,
   "id": "a6acc0f2",
   "metadata": {},
   "outputs": [
    {
     "name": "stdout",
     "output_type": "stream",
     "text": [
      "1\n",
      "2\n",
      "3\n",
      "4\n",
      "5\n",
      "6\n",
      "7\n",
      "8\n",
      "9\n",
      "10\n"
     ]
    }
   ],
   "source": [
    "i=1\n",
    "\n",
    "while (i<=10):\n",
    "    print(i)\n",
    "    i+=1"
   ]
  },
  {
   "cell_type": "markdown",
   "id": "9fc1402d",
   "metadata": {},
   "source": [
    "WAP to print 1 2 3 4 5 6 7 8 9 10"
   ]
  },
  {
   "cell_type": "code",
   "execution_count": 10,
   "id": "d5c9c3f7",
   "metadata": {},
   "outputs": [
    {
     "name": "stdout",
     "output_type": "stream",
     "text": [
      "1\t2\t3\t4\t5\t6\t7\t8\t9\t10\t"
     ]
    }
   ],
   "source": [
    "i = 1\n",
    "while(i<=10):\n",
    "    print(i, end='\\t')\n",
    "    i+=1"
   ]
  },
  {
   "cell_type": "markdown",
   "id": "24033826",
   "metadata": {},
   "source": [
    "WAP to print the following series\n",
    "\n",
    "1 4 9 16 25 36 49 64 81 100"
   ]
  },
  {
   "cell_type": "code",
   "execution_count": 15,
   "id": "b12c70b8",
   "metadata": {},
   "outputs": [
    {
     "name": "stdout",
     "output_type": "stream",
     "text": [
      "1\t4\t9\t16\t25\t36\t49\t64\t81\t100\t"
     ]
    }
   ],
   "source": [
    "i =1\n",
    "while i<=10:\n",
    "    j=i*i\n",
    "    print(j, end = '\\t')\n",
    "    i+=1"
   ]
  },
  {
   "cell_type": "markdown",
   "id": "5e18576e",
   "metadata": {},
   "source": [
    "WAP to get a number from a user and print the reverse of it"
   ]
  },
  {
   "cell_type": "code",
   "execution_count": 18,
   "id": "98ffd429",
   "metadata": {},
   "outputs": [
    {
     "name": "stdout",
     "output_type": "stream",
     "text": [
      "Enter a number: 567\n",
      "7 6 5 "
     ]
    }
   ],
   "source": [
    "n = int(input(\"Enter a number: \"))\n",
    "while n > 0:\n",
    "    r = n%10\n",
    "    print(r, end= ' ')\n",
    "    n = n // 10\n",
    "    "
   ]
  },
  {
   "cell_type": "markdown",
   "id": "5798d356",
   "metadata": {},
   "source": [
    "WAP for Armstrong number"
   ]
  },
  {
   "cell_type": "code",
   "execution_count": null,
   "id": "a8a0e84a",
   "metadata": {},
   "outputs": [],
   "source": []
  }
 ],
 "metadata": {
  "kernelspec": {
   "display_name": "Python 3 (ipykernel)",
   "language": "python",
   "name": "python3"
  },
  "language_info": {
   "codemirror_mode": {
    "name": "ipython",
    "version": 3
   },
   "file_extension": ".py",
   "mimetype": "text/x-python",
   "name": "python",
   "nbconvert_exporter": "python",
   "pygments_lexer": "ipython3",
   "version": "3.11.5"
  }
 },
 "nbformat": 4,
 "nbformat_minor": 5
}
